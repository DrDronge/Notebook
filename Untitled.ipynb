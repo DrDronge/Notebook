{
 "cells": [
  {
   "cell_type": "markdown",
   "metadata": {},
   "source": [
    "# PYTHON"
   ]
  },
  {
   "cell_type": "raw",
   "metadata": {},
   "source": [
    "Det første vi skal vide noget om  alle programmeringssprog er vores kære variabler. Vores variabler er beholdere der indeholder forskellige former for data. \n",
    "\n",
    "Hvad er data og hvad er data typer?\n",
    "\n",
    "Hvordan fungere det i python i forhold til andre sprog er lidt anderledes."
   ]
  },
  {
   "cell_type": "code",
   "execution_count": 1,
   "metadata": {},
   "outputs": [],
   "source": [
    "# Havelåge er kommentare og vil ikke blive kørt. Der findes ikke som i andre sprog såkaldte block comments så det er # per linje.\n",
    "\n"
   ]
  },
  {
   "cell_type": "code",
   "execution_count": 2,
   "metadata": {},
   "outputs": [],
   "source": [
    "# Variabler i Python\n",
    "\n",
    "# Variabler er kønsløse\n",
    "\n",
    "#Integer altså heltal\n",
    "en_int = 2\n",
    "\n",
    "# Pas på man kan ændre det uden advarsler\n",
    "etNavn = 2.2\n",
    "\n",
    "en_float = 3.5\n",
    "\n",
    "en_string = \"Hej\"\n",
    "\n",
    "en_bool = False\n",
    "\n",
    "#Typecasting findes også i Python\n",
    "en_float = int(3.5)\n"
   ]
  },
  {
   "cell_type": "code",
   "execution_count": 3,
   "metadata": {},
   "outputs": [
    {
     "name": "stdout",
     "output_type": "stream",
     "text": [
      "2\n",
      "2.2\n",
      "3\n",
      "Hej\n",
      "False\n",
      "3\n"
     ]
    }
   ],
   "source": [
    "# Alt det her er jo meget godt, men vi kan ikke se en skid\n",
    "# Så for at printe bruger vi print.\n",
    "\n",
    "print(en_int)\n",
    "print(etNavn)\n",
    "print(en_float)\n",
    "print(en_string)\n",
    "print(en_bool)\n",
    "print(en_float)"
   ]
  },
  {
   "cell_type": "code",
   "execution_count": 4,
   "metadata": {},
   "outputs": [
    {
     "name": "stdout",
     "output_type": "stream",
     "text": [
      "<class 'int'>\n"
     ]
    }
   ],
   "source": [
    "# For at checke hvad vores variabler indeholder kan vi bringe funktionen Type.\n",
    "print(type(en_int))"
   ]
  },
  {
   "cell_type": "markdown",
   "metadata": {},
   "source": [
    "# Der findes en funktion der gør det rigtig nemt at få data ind der kaldes input().\n",
    "a = int(input(\"Hvor gammel er det lige Roland er? \"))"
   ]
  },
  {
   "cell_type": "code",
   "execution_count": 6,
   "metadata": {},
   "outputs": [
    {
     "name": "stdout",
     "output_type": "stream",
     "text": [
      "1\n"
     ]
    }
   ],
   "source": [
    "print(a)"
   ]
  },
  {
   "cell_type": "markdown",
   "metadata": {},
   "source": [
    "## Opgave\n",
    "\n",
    "Brug jeres viden om variabler og lav en lille lommeregner der kan, plus, minus, gange og dividere.\n",
    "\n",
    "Brug f.eks. input() til \n",
    "\n",
    "Hint husk at bruge type() hvis det driller\n"
   ]
  },
  {
   "cell_type": "markdown",
   "metadata": {},
   "source": [
    "### Første forsøg"
   ]
  },
  {
   "cell_type": "code",
   "execution_count": 7,
   "metadata": {},
   "outputs": [
    {
     "name": "stdout",
     "output_type": "stream",
     "text": [
      "Lad os plusse 1\n",
      "Plus 1\n"
     ]
    }
   ],
   "source": [
    "b = int(input(\"Lad os plusse \"))\n",
    "c = int(input(\"Plus \"))\n",
    "\n"
   ]
  },
  {
   "cell_type": "code",
   "execution_count": 8,
   "metadata": {},
   "outputs": [
    {
     "name": "stdout",
     "output_type": "stream",
     "text": [
      "Lad os minus 1\n",
      "Minus 1\n"
     ]
    }
   ],
   "source": [
    "d = int(input(\"Lad os minus \"))\n",
    "e = int(input(\"Minus \"))"
   ]
  },
  {
   "cell_type": "code",
   "execution_count": 9,
   "metadata": {},
   "outputs": [
    {
     "name": "stdout",
     "output_type": "stream",
     "text": [
      "Lad os gange 1\n",
      "gange 1\n"
     ]
    }
   ],
   "source": [
    "f = int(input(\"Lad os gange \"))\n",
    "g = int(input(\"gange \"))"
   ]
  },
  {
   "cell_type": "code",
   "execution_count": null,
   "metadata": {},
   "outputs": [],
   "source": [
    "h = float(input(\"Lad os dividere \"))\n",
    "i = float(input(\"divideret med \"))"
   ]
  },
  {
   "cell_type": "code",
   "execution_count": null,
   "metadata": {},
   "outputs": [],
   "source": [
    "# Her har vi plus\n",
    "j = b + c\n",
    "print(\"b + c =\",j)\n",
    "\n",
    "# Her har vi minus\n",
    "k = d - e\n",
    "print(\"d - e =\",k)\n",
    "\n",
    "# Her har vi gange\n",
    "l = f * g\n",
    "print(\"f * g =\",l)\n",
    "\n",
    "# Her har vi dividere\n",
    "m = h / i\n",
    "print(\"h / i =\",m)"
   ]
  },
  {
   "cell_type": "code",
   "execution_count": null,
   "metadata": {},
   "outputs": [
    {
     "name": "stdout",
     "output_type": "stream",
     "text": [
      "1\n",
      "1\n",
      "1\n"
     ]
    }
   ],
   "source": [
    "æ = int(input())\n",
    "ø = input()\n",
    "å = int(input())"
   ]
  },
  {
   "cell_type": "markdown",
   "metadata": {},
   "source": [
    "### Andet forsøg"
   ]
  },
  {
   "cell_type": "code",
   "execution_count": null,
   "metadata": {},
   "outputs": [
    {
     "name": "stdout",
     "output_type": "stream",
     "text": [
      "+, -, * eller /? 1\n"
     ]
    }
   ],
   "source": [
    "Wut = input(\"+, -, * eller /? \")"
   ]
  },
  {
   "cell_type": "code",
   "execution_count": null,
   "metadata": {},
   "outputs": [],
   "source": [
    "if (Wut == \"+\"):\n",
    "    b = int(input(\"Lad os plusse \"))\n",
    "    c = int(input(\"Plus \"))\n",
    "    # Her har vi plus\n",
    "    j = b + c\n",
    "    print(\"b + c =\",j)\n",
    "elif(Wut == \"-\"):\n",
    "    d = int(input(\"Lad os minus \"))\n",
    "    e = int(input(\"Minus \"))\n",
    "    # Her har vi minus\n",
    "    k = d - e\n",
    "    print(\"d - e =\",k)\n",
    "elif(Wut == \"*\"):\n",
    "    f = int(input(\"Lad os gange \"))\n",
    "    g = int(input(\"gange \"))\n",
    "    # Her har vi gange\n",
    "    l = f * g\n",
    "    print(\"f * g =\",l)\n",
    "elif(Wut == \"/\"):\n",
    "    h = float(input(\"Lad os dividere \"))\n",
    "    i = float(input(\"divideret med \"))\n",
    "    # Her har vi dividere\n",
    "    m = h / i\n",
    "    print(\"h / i =\",m)\n",
    "    "
   ]
  },
  {
   "cell_type": "code",
   "execution_count": null,
   "metadata": {},
   "outputs": [
    {
     "name": "stdout",
     "output_type": "stream",
     "text": [
      "måske\n"
     ]
    }
   ],
   "source": [
    "# Scope er noget anderledes i Python end i andre sprog der bruges ikke {}\n",
    "\n",
    "if a > b:\n",
    "    print(\"Hej\")\n",
    "    # Det her er med\n",
    "#Det her er ikke med\n",
    "\n",
    "elif a == b:\n",
    "    print(\"måske\")\n",
    "else:\n",
    "    print(\"Nej\")"
   ]
  },
  {
   "cell_type": "code",
   "execution_count": null,
   "metadata": {},
   "outputs": [],
   "source": [
    "#Funktioner"
   ]
  },
  {
   "cell_type": "code",
   "execution_count": null,
   "metadata": {},
   "outputs": [
    {
     "name": "stdout",
     "output_type": "stream",
     "text": [
      "4\n",
      "-2\n",
      "3\n",
      "0.3333333333333333\n"
     ]
    }
   ],
   "source": [
    "def lommeregner(a1, b1 ):\n",
    "    print(a1 + b1)\n",
    "    print(a1 - b1)\n",
    "    print(a1 * b1)\n",
    "    print(a1 / b1)\n",
    "\n",
    "lommeregner(1,3)"
   ]
  },
  {
   "cell_type": "code",
   "execution_count": 44,
   "metadata": {},
   "outputs": [],
   "source": [
    "def smart_calc():\n",
    "    a = input(\"Første tal \")\n",
    "    if a.isdigit()==False:\n",
    "        a=float(ord(a))\n",
    "        \n",
    "    else:\n",
    "        a = float(a)\n",
    "    b = input(\"Andet tal \")\n",
    "        \n",
    "    if b.isdigit()==False:\n",
    "        b=float(ord(b))\n",
    "        \n",
    "    else:\n",
    "        b = float(b)\n",
    "        \n",
    "    operation = input(\"+, -, *, /: \")\n",
    "    \n",
    "    if operation == \"+\":\n",
    "        print(a + b)\n",
    "    elif operation == \"-\":\n",
    "        print(a - b)\n",
    "    elif operation == \"*\":\n",
    "        print(a * b)\n",
    "    elif operation == \"/\":\n",
    "        print(a / b)\n",
    "    elif operation == \"Stop\" or operation == \"stop\":\n",
    "        print(\"Vi stopper nu\")\n",
    "    else:\n",
    "        print(\"*Poof* You Stupid\")\n",
    "        smart_calc()"
   ]
  },
  {
   "cell_type": "code",
   "execution_count": 46,
   "metadata": {},
   "outputs": [
    {
     "name": "stdout",
     "output_type": "stream",
     "text": [
      "Første tal z\n",
      "Andet tal y\n",
      "+, -, *, /: *\n",
      "14762.0\n"
     ]
    }
   ],
   "source": [
    "smart_calc()"
   ]
  },
  {
   "cell_type": "code",
   "execution_count": 23,
   "metadata": {},
   "outputs": [],
   "source": [
    "def smart_calcA():\n",
    "    a = input(\"Første tal \")\n",
    "    if a.isdigit()==False:\n",
    "        smart_calcA()\n",
    "    else:\n",
    "        a = float(a)\n",
    "        smart_calcB()"
   ]
  },
  {
   "cell_type": "code",
   "execution_count": 24,
   "metadata": {},
   "outputs": [],
   "source": [
    "def smart_calcB():\n",
    "    b = input(\"Andet tal \")\n",
    "    if b.isdigit()==False:\n",
    "        smart_calcB()\n",
    "    else:\n",
    "        b = float(b)\n",
    "        smart_calcV()"
   ]
  },
  {
   "cell_type": "code",
   "execution_count": 25,
   "metadata": {},
   "outputs": [],
   "source": [
    "def smart_calcV():\n",
    "\n",
    "    operation = input(\"+, -, *, /: \")\n",
    "    \n",
    "    if operation == \"+\":\n",
    "        print(a + b)\n",
    "    elif operation == \"-\":\n",
    "        print(a - b)\n",
    "    elif operation == \"*\":\n",
    "        print(a * b)\n",
    "    elif operation == \"/\":\n",
    "        print(a / b)\n",
    "    elif operation == \"Stop\" or operation == \"stop\":\n",
    "        print(\"Vi stopper nu\")\n",
    "    else:\n",
    "        print(\"*Poof* You Stupid\")\n",
    "        smart_calc()"
   ]
  },
  {
   "cell_type": "code",
   "execution_count": 39,
   "metadata": {},
   "outputs": [
    {
     "data": {
      "text/plain": [
       "97"
      ]
     },
     "execution_count": 39,
     "metadata": {},
     "output_type": "execute_result"
    }
   ],
   "source": [
    "ord('a')"
   ]
  },
  {
   "cell_type": "code",
   "execution_count": 83,
   "metadata": {},
   "outputs": [
    {
     "data": {
      "text/plain": [
       "'힣'"
      ]
     },
     "execution_count": 83,
     "metadata": {},
     "output_type": "execute_result"
    }
   ],
   "source": [
    "chr(55203)"
   ]
  },
  {
   "cell_type": "code",
   "execution_count": null,
   "metadata": {},
   "outputs": [],
   "source": []
  },
  {
   "cell_type": "code",
   "execution_count": null,
   "metadata": {},
   "outputs": [],
   "source": []
  },
  {
   "cell_type": "code",
   "execution_count": null,
   "metadata": {},
   "outputs": [],
   "source": []
  },
  {
   "cell_type": "code",
   "execution_count": null,
   "metadata": {},
   "outputs": [],
   "source": []
  },
  {
   "cell_type": "code",
   "execution_count": null,
   "metadata": {},
   "outputs": [],
   "source": []
  },
  {
   "cell_type": "code",
   "execution_count": null,
   "metadata": {},
   "outputs": [],
   "source": []
  },
  {
   "cell_type": "code",
   "execution_count": null,
   "metadata": {},
   "outputs": [],
   "source": []
  },
  {
   "cell_type": "code",
   "execution_count": null,
   "metadata": {},
   "outputs": [],
   "source": []
  },
  {
   "cell_type": "code",
   "execution_count": null,
   "metadata": {},
   "outputs": [],
   "source": []
  }
 ],
 "metadata": {
  "kernelspec": {
   "display_name": "Python 3",
   "language": "python",
   "name": "python3"
  },
  "language_info": {
   "codemirror_mode": {
    "name": "ipython",
    "version": 3
   },
   "file_extension": ".py",
   "mimetype": "text/x-python",
   "name": "python",
   "nbconvert_exporter": "python",
   "pygments_lexer": "ipython3",
   "version": "3.7.1"
  }
 },
 "nbformat": 4,
 "nbformat_minor": 2
}
